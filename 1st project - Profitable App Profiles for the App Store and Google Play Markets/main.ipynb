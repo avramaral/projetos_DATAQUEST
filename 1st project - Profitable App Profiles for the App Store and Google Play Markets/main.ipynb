{
 "cells": [
  {
   "cell_type": "markdown",
   "metadata": {},
   "source": [
    "## Analisando o mercado de aplicativos na \"App Store\" e na \"Google Play\"\n",
    "\n",
    "O principal objetivo deste projeto é analisar base de dados de aplicativos transacionados nas principais lojas de APPs para, com a intenção de construir uma aplicação gratuita de sucesso, analisar tendências e enumerar potenciais características de interesse no desenvolvimento desse tipo de *software*. "
   ]
  },
  {
   "cell_type": "code",
   "execution_count": 1,
   "metadata": {},
   "outputs": [],
   "source": [
    "from csv import reader\n",
    "\n",
    "opened_file_a = open(\"apple_store.csv\")\n",
    "read_file_a   = reader(opened_file_a)\n",
    "file_a        = list(read_file_a)\n",
    "header_a      = file_a[0]\n",
    "file_a        = file_a[1:]\n",
    "\n",
    "opened_file_g = open(\"google_playstore.csv\")\n",
    "read_file_g   = reader(opened_file_g)\n",
    "file_g        = list(read_file_g)\n",
    "header_g      = file_g[0]\n",
    "file_g        = file_g[1:]"
   ]
  },
  {
   "cell_type": "code",
   "execution_count": 2,
   "metadata": {},
   "outputs": [],
   "source": [
    "# Exploração do banco de dados\n",
    "def explore_data(dataset, header = None, start = 0, end = 3, rows_columns = True):\n",
    "    if header:\n",
    "        print(header)\n",
    "    for row in dataset[start:end]:\n",
    "        print(row)\n",
    "    if rows_columns:\n",
    "        n_rows = len(dataset)\n",
    "        n_columns = len(dataset[0])\n",
    "        print('\\n')\n",
    "        print('O conjunto de dados tem {} entradas.'.format(n_rows))\n",
    "        print('O conjunto de dados tem {} colunas.'.format(n_columns))"
   ]
  },
  {
   "cell_type": "code",
   "execution_count": 3,
   "metadata": {},
   "outputs": [
    {
     "name": "stdout",
     "output_type": "stream",
     "text": [
      "['id', 'track_name', 'size_bytes', 'currency', 'price', 'rating_count_tot', 'rating_count_ver', 'user_rating', 'user_rating_ver', 'ver', 'cont_rating', 'prime_genre', 'sup_devices.num', 'ipadSc_urls.num', 'lang.num', 'vpp_lic']\n",
      "['284882215', 'Facebook', '389879808', 'USD', '0.0', '2974676', '212', '3.5', '3.5', '95.0', '4+', 'Social Networking', '37', '1', '29', '1']\n",
      "['389801252', 'Instagram', '113954816', 'USD', '0.0', '2161558', '1289', '4.5', '4.0', '10.23', '12+', 'Photo & Video', '37', '0', '29', '1']\n",
      "['529479190', 'Clash of Clans', '116476928', 'USD', '0.0', '2130805', '579', '4.5', '4.5', '9.24.12', '9+', 'Games', '38', '5', '18', '1']\n",
      "\n",
      "\n",
      "O conjunto de dados tem 7197 entradas.\n",
      "O conjunto de dados tem 16 colunas.\n"
     ]
    }
   ],
   "source": [
    "explore_data(file_a, header_a)"
   ]
  },
  {
   "cell_type": "code",
   "execution_count": 4,
   "metadata": {},
   "outputs": [
    {
     "name": "stdout",
     "output_type": "stream",
     "text": [
      "['App', 'Category', 'Rating', 'Reviews', 'Size', 'Installs', 'Type', 'Price', 'Content Rating', 'Genres', 'Last Updated', 'Current Ver', 'Android Ver']\n",
      "['Photo Editor & Candy Camera & Grid & ScrapBook', 'ART_AND_DESIGN', '4.1', '159', '19M', '10,000+', 'Free', '0', 'Everyone', 'Art & Design', 'January 7, 2018', '1.0.0', '4.0.3 and up']\n",
      "['Coloring book moana', 'ART_AND_DESIGN', '3.9', '967', '14M', '500,000+', 'Free', '0', 'Everyone', 'Art & Design;Pretend Play', 'January 15, 2018', '2.0.0', '4.0.3 and up']\n",
      "['U Launcher Lite – FREE Live Cool Themes, Hide Apps', 'ART_AND_DESIGN', '4.7', '87510', '8.7M', '5,000,000+', 'Free', '0', 'Everyone', 'Art & Design', 'August 1, 2018', '1.2.4', '4.0.3 and up']\n",
      "\n",
      "\n",
      "O conjunto de dados tem 10841 entradas.\n",
      "O conjunto de dados tem 13 colunas.\n"
     ]
    }
   ],
   "source": [
    "explore_data(file_g, header_g)"
   ]
  },
  {
   "cell_type": "code",
   "execution_count": 5,
   "metadata": {},
   "outputs": [],
   "source": [
    "# Procura por linhas \"erradas\" no banco de dados\n",
    "def disc_errors(dataset, header = None):\n",
    "    indexes = []\n",
    "    if header:\n",
    "        n_ref = len(header)\n",
    "    else:\n",
    "        n_ref = len(dataset[0])\n",
    "    for row in dataset:\n",
    "        if len(row) != n_ref:\n",
    "            indexes.append(dataset.index(row))\n",
    "    if indexes:\n",
    "        print('Os índices com defeito são: {}.'.format(indexes))\n",
    "    else:\n",
    "        print('Não foi encontrado nenhum erro.')"
   ]
  },
  {
   "cell_type": "code",
   "execution_count": 6,
   "metadata": {},
   "outputs": [
    {
     "name": "stdout",
     "output_type": "stream",
     "text": [
      "Não foi encontrado nenhum erro.\n"
     ]
    }
   ],
   "source": [
    "disc_errors(file_a)"
   ]
  },
  {
   "cell_type": "code",
   "execution_count": 7,
   "metadata": {},
   "outputs": [
    {
     "name": "stdout",
     "output_type": "stream",
     "text": [
      "Os índices com defeito são: [10472].\n"
     ]
    }
   ],
   "source": [
    "disc_errors(file_g)"
   ]
  },
  {
   "cell_type": "code",
   "execution_count": 8,
   "metadata": {},
   "outputs": [
    {
     "data": {
      "text/plain": [
       "['Life Made WI-Fi Touchscreen Photo Frame',\n",
       " '1.9',\n",
       " '19',\n",
       " '3.0M',\n",
       " '1,000+',\n",
       " 'Free',\n",
       " '0',\n",
       " 'Everyone',\n",
       " '',\n",
       " 'February 11, 2018',\n",
       " '1.0.19',\n",
       " '4.0 and up']"
      ]
     },
     "execution_count": 8,
     "metadata": {},
     "output_type": "execute_result"
    }
   ],
   "source": [
    "file_g[10472]"
   ]
  },
  {
   "cell_type": "code",
   "execution_count": 9,
   "metadata": {},
   "outputs": [],
   "source": [
    "del file_g[10472]"
   ]
  },
  {
   "cell_type": "code",
   "execution_count": 10,
   "metadata": {},
   "outputs": [
    {
     "name": "stdout",
     "output_type": "stream",
     "text": [
      "['App', 'Category', 'Rating', 'Reviews', 'Size', 'Installs', 'Type', 'Price', 'Content Rating', 'Genres', 'Last Updated', 'Current Ver', 'Android Ver']\n",
      "['Photo Editor & Candy Camera & Grid & ScrapBook', 'ART_AND_DESIGN', '4.1', '159', '19M', '10,000+', 'Free', '0', 'Everyone', 'Art & Design', 'January 7, 2018', '1.0.0', '4.0.3 and up']\n",
      "['Coloring book moana', 'ART_AND_DESIGN', '3.9', '967', '14M', '500,000+', 'Free', '0', 'Everyone', 'Art & Design;Pretend Play', 'January 15, 2018', '2.0.0', '4.0.3 and up']\n",
      "['U Launcher Lite – FREE Live Cool Themes, Hide Apps', 'ART_AND_DESIGN', '4.7', '87510', '8.7M', '5,000,000+', 'Free', '0', 'Everyone', 'Art & Design', 'August 1, 2018', '1.2.4', '4.0.3 and up']\n",
      "\n",
      "\n",
      "O conjunto de dados tem 10840 entradas.\n",
      "O conjunto de dados tem 13 colunas.\n"
     ]
    }
   ],
   "source": [
    "explore_data(file_g, header_g)"
   ]
  },
  {
   "cell_type": "code",
   "execution_count": 11,
   "metadata": {},
   "outputs": [],
   "source": [
    "# Verifica entradas duplicadas\n",
    "def duplicate_entries(dataset, column_position):\n",
    "    duplicate = []\n",
    "    unique = []\n",
    "    for row in dataset:\n",
    "        column_value = row[column_position]\n",
    "        if column_value in unique:\n",
    "            duplicate.append(column_value)\n",
    "        else:\n",
    "            unique.append(column_value)\n",
    "    print('Existem {} entradas duplicadas.'.format(len(duplicate)))\n",
    "    print('Existem {} entradas únicas.'.format(len(unique)))\n",
    "    return duplicate"
   ]
  },
  {
   "cell_type": "code",
   "execution_count": 12,
   "metadata": {},
   "outputs": [
    {
     "name": "stdout",
     "output_type": "stream",
     "text": [
      "Existem 2 entradas duplicadas.\n",
      "Existem 7195 entradas únicas.\n"
     ]
    }
   ],
   "source": [
    "duplicate_a = duplicate_entries(file_a, 1)"
   ]
  },
  {
   "cell_type": "code",
   "execution_count": 13,
   "metadata": {},
   "outputs": [
    {
     "name": "stdout",
     "output_type": "stream",
     "text": [
      "Existem 1181 entradas duplicadas.\n",
      "Existem 9659 entradas únicas.\n"
     ]
    }
   ],
   "source": [
    "duplicate_g = duplicate_entries(file_g, 0)"
   ]
  },
  {
   "cell_type": "code",
   "execution_count": 14,
   "metadata": {},
   "outputs": [
    {
     "data": {
      "text/plain": [
       "['Mannequin Challenge', 'VR Roller Coaster']"
      ]
     },
     "execution_count": 14,
     "metadata": {},
     "output_type": "execute_result"
    }
   ],
   "source": [
    "duplicate_a"
   ]
  },
  {
   "cell_type": "code",
   "execution_count": 15,
   "metadata": {},
   "outputs": [
    {
     "data": {
      "text/plain": [
       "['Quick PDF Scanner + OCR FREE',\n",
       " 'Box',\n",
       " 'Google My Business',\n",
       " 'ZOOM Cloud Meetings',\n",
       " 'join.me - Simple Meetings',\n",
       " 'Box',\n",
       " 'Zenefits',\n",
       " 'Google Ads',\n",
       " 'Google My Business',\n",
       " 'Slack']"
      ]
     },
     "execution_count": 15,
     "metadata": {},
     "output_type": "execute_result"
    }
   ],
   "source": [
    "duplicate_g[:10]"
   ]
  },
  {
   "cell_type": "markdown",
   "metadata": {},
   "source": [
    "Para os aplicativos que tem entrada duplicada, será considerada apenas a linha que apresenta o maior número de *reviews*; o que faz sentido, já que é nessa posição que se encontra as informações mais recentes do APP considerado."
   ]
  },
  {
   "cell_type": "code",
   "execution_count": 16,
   "metadata": {},
   "outputs": [],
   "source": [
    "# Cria um dicionário com os aplicativos repetidos que tem maior número de review (i.e., construção de critério de exclusão de entradas repetidas)\n",
    "def create_dictionary(dataset, column_position, review_position):\n",
    "    reviews_max = {}\n",
    "    for row in dataset:\n",
    "        column_value = row[column_position]\n",
    "        review = int(row[review_position])\n",
    "        if (column_value in reviews_max) and (review > reviews_max[column_value]): # Verifica a segunda condição apenas se a primeira for satisfeita; caso contrário, um erro seria lançado\n",
    "            reviews_max[column_value] = review\n",
    "        if column_value not in reviews_max:\n",
    "            reviews_max[column_value] = review\n",
    "    return reviews_max"
   ]
  },
  {
   "cell_type": "code",
   "execution_count": 17,
   "metadata": {},
   "outputs": [
    {
     "name": "stdout",
     "output_type": "stream",
     "text": [
      "7195\n"
     ]
    }
   ],
   "source": [
    "dic_a = create_dictionary(file_a, 1, 5)\n",
    "print(len(dic_a))"
   ]
  },
  {
   "cell_type": "code",
   "execution_count": 18,
   "metadata": {},
   "outputs": [
    {
     "name": "stdout",
     "output_type": "stream",
     "text": [
      "9659\n"
     ]
    }
   ],
   "source": [
    "dic_g = create_dictionary(file_g, 0, 3)\n",
    "print(len(dic_g))"
   ]
  },
  {
   "cell_type": "code",
   "execution_count": 19,
   "metadata": {},
   "outputs": [],
   "source": [
    "# Limpa as entradas repetidas do banco de dados\n",
    "def clean_dataset(dataset, column_position, review_position, my_dict):\n",
    "    dataset_clean = []\n",
    "    already_added = []\n",
    "    for row in dataset:\n",
    "        column_value = row[column_position]\n",
    "        review = int(row[review_position])\n",
    "        if (review == my_dict[column_value]) and (column_value not in already_added):\n",
    "            dataset_clean.append(row)\n",
    "            already_added.append(column_value)\n",
    "    return dataset_clean"
   ]
  },
  {
   "cell_type": "code",
   "execution_count": 20,
   "metadata": {},
   "outputs": [],
   "source": [
    "cleaned_a = clean_dataset(file_a, 1, 5, dic_a)\n",
    "cleaned_g = clean_dataset(file_g, 0, 3, dic_g)"
   ]
  },
  {
   "cell_type": "code",
   "execution_count": 21,
   "metadata": {},
   "outputs": [
    {
     "name": "stdout",
     "output_type": "stream",
     "text": [
      "['284882215', 'Facebook', '389879808', 'USD', '0.0', '2974676', '212', '3.5', '3.5', '95.0', '4+', 'Social Networking', '37', '1', '29', '1']\n",
      "['389801252', 'Instagram', '113954816', 'USD', '0.0', '2161558', '1289', '4.5', '4.0', '10.23', '12+', 'Photo & Video', '37', '0', '29', '1']\n",
      "['529479190', 'Clash of Clans', '116476928', 'USD', '0.0', '2130805', '579', '4.5', '4.5', '9.24.12', '9+', 'Games', '38', '5', '18', '1']\n",
      "\n",
      "\n",
      "O conjunto de dados tem 7195 entradas.\n",
      "O conjunto de dados tem 16 colunas.\n"
     ]
    }
   ],
   "source": [
    "explore_data(cleaned_a)"
   ]
  },
  {
   "cell_type": "code",
   "execution_count": 22,
   "metadata": {},
   "outputs": [
    {
     "name": "stdout",
     "output_type": "stream",
     "text": [
      "['Photo Editor & Candy Camera & Grid & ScrapBook', 'ART_AND_DESIGN', '4.1', '159', '19M', '10,000+', 'Free', '0', 'Everyone', 'Art & Design', 'January 7, 2018', '1.0.0', '4.0.3 and up']\n",
      "['U Launcher Lite – FREE Live Cool Themes, Hide Apps', 'ART_AND_DESIGN', '4.7', '87510', '8.7M', '5,000,000+', 'Free', '0', 'Everyone', 'Art & Design', 'August 1, 2018', '1.2.4', '4.0.3 and up']\n",
      "['Sketch - Draw & Paint', 'ART_AND_DESIGN', '4.5', '215644', '25M', '50,000,000+', 'Free', '0', 'Teen', 'Art & Design', 'June 8, 2018', 'Varies with device', '4.2 and up']\n",
      "\n",
      "\n",
      "O conjunto de dados tem 9659 entradas.\n",
      "O conjunto de dados tem 13 colunas.\n"
     ]
    }
   ],
   "source": [
    "explore_data(cleaned_g)"
   ]
  },
  {
   "cell_type": "markdown",
   "metadata": {},
   "source": [
    "Agora, simulando um cenário real, no qual apenas os aplicativos com idiomas de países ocidentais são interessantes de serem analisados, um filtro por tipo de caractere será criado."
   ]
  },
  {
   "cell_type": "code",
   "execution_count": 23,
   "metadata": {},
   "outputs": [],
   "source": [
    "# Verifica se uma \"string\" tem caracteres que pertencem a outro idioma\n",
    "def verify_char(string):\n",
    "    count = 0\n",
    "    for char in string:\n",
    "        char_order = ord(char)\n",
    "        if char_order > 256:\n",
    "            count = count + 1\n",
    "    if count > 3:\n",
    "        return False\n",
    "    else:\n",
    "        return True"
   ]
  },
  {
   "cell_type": "code",
   "execution_count": 24,
   "metadata": {},
   "outputs": [
    {
     "name": "stdout",
     "output_type": "stream",
     "text": [
      "Instagram: True\n",
      "爱奇艺PPS -《欢乐颂2》电视剧热播: False\n",
      "Docs To Go™ Free Office Suite: True\n",
      "Instachat 😜: True\n",
      "André: True\n"
     ]
    }
   ],
   "source": [
    "# Testa a função verify_char()\n",
    "print('Instagram:', verify_char('Instagram'))\n",
    "print('爱奇艺PPS -《欢乐颂2》电视剧热播:', verify_char('爱奇艺PPS -《欢乐颂2》电视剧热播'))\n",
    "print('Docs To Go™ Free Office Suite:', verify_char('Docs To Go™ Free Office Suite'))\n",
    "print('Instachat 😜:', verify_char('Instachat 😜'))\n",
    "print('André:', verify_char('André'))"
   ]
  },
  {
   "cell_type": "code",
   "execution_count": 25,
   "metadata": {},
   "outputs": [],
   "source": [
    "# Limpa as entradas que dizem respeito a aplicativos com nomes que têm caracteres \"estranhos\"\n",
    "def ult_cleaned_dataset(dataset, column_position):\n",
    "    ult_cleaned = []\n",
    "    for row in dataset:\n",
    "        column_value = row[column_position]\n",
    "        if verify_char(column_value):\n",
    "            ult_cleaned.append(row)\n",
    "    return ult_cleaned"
   ]
  },
  {
   "cell_type": "code",
   "execution_count": 26,
   "metadata": {},
   "outputs": [],
   "source": [
    "ult_cleaned_a = ult_cleaned_dataset(cleaned_a, 1)\n",
    "ult_cleaned_g = ult_cleaned_dataset(cleaned_g, 0)"
   ]
  },
  {
   "cell_type": "code",
   "execution_count": 27,
   "metadata": {},
   "outputs": [
    {
     "name": "stdout",
     "output_type": "stream",
     "text": [
      "['284882215', 'Facebook', '389879808', 'USD', '0.0', '2974676', '212', '3.5', '3.5', '95.0', '4+', 'Social Networking', '37', '1', '29', '1']\n",
      "['389801252', 'Instagram', '113954816', 'USD', '0.0', '2161558', '1289', '4.5', '4.0', '10.23', '12+', 'Photo & Video', '37', '0', '29', '1']\n",
      "['529479190', 'Clash of Clans', '116476928', 'USD', '0.0', '2130805', '579', '4.5', '4.5', '9.24.12', '9+', 'Games', '38', '5', '18', '1']\n",
      "\n",
      "\n",
      "O conjunto de dados tem 6182 entradas.\n",
      "O conjunto de dados tem 16 colunas.\n"
     ]
    }
   ],
   "source": [
    "explore_data(ult_cleaned_a)"
   ]
  },
  {
   "cell_type": "code",
   "execution_count": 28,
   "metadata": {
    "scrolled": true
   },
   "outputs": [
    {
     "name": "stdout",
     "output_type": "stream",
     "text": [
      "['Photo Editor & Candy Camera & Grid & ScrapBook', 'ART_AND_DESIGN', '4.1', '159', '19M', '10,000+', 'Free', '0', 'Everyone', 'Art & Design', 'January 7, 2018', '1.0.0', '4.0.3 and up']\n",
      "['U Launcher Lite – FREE Live Cool Themes, Hide Apps', 'ART_AND_DESIGN', '4.7', '87510', '8.7M', '5,000,000+', 'Free', '0', 'Everyone', 'Art & Design', 'August 1, 2018', '1.2.4', '4.0.3 and up']\n",
      "['Sketch - Draw & Paint', 'ART_AND_DESIGN', '4.5', '215644', '25M', '50,000,000+', 'Free', '0', 'Teen', 'Art & Design', 'June 8, 2018', 'Varies with device', '4.2 and up']\n",
      "\n",
      "\n",
      "O conjunto de dados tem 9616 entradas.\n",
      "O conjunto de dados tem 13 colunas.\n"
     ]
    }
   ],
   "source": [
    "explore_data(ult_cleaned_g)"
   ]
  },
  {
   "cell_type": "markdown",
   "metadata": {},
   "source": [
    "Um filtro a mais será implimentado: nesse cenário hipotético, apenas aplicativos gratuitos serão analisados."
   ]
  },
  {
   "cell_type": "code",
   "execution_count": 29,
   "metadata": {},
   "outputs": [],
   "source": [
    "# Limpa as entradas de aplicativos que não são gratuitos\n",
    "def free_apps(dataset, price_position):\n",
    "    free_apps_list = []\n",
    "    for row in dataset:\n",
    "        price = row[price_position]\n",
    "        if price == '0.0' or price == '0':\n",
    "            free_apps_list.append(row)\n",
    "    return free_apps_list"
   ]
  },
  {
   "cell_type": "code",
   "execution_count": 30,
   "metadata": {},
   "outputs": [],
   "source": [
    "free_a = free_apps(ult_cleaned_a, 4)\n",
    "free_g = free_apps(ult_cleaned_g, 7)"
   ]
  },
  {
   "cell_type": "code",
   "execution_count": 31,
   "metadata": {},
   "outputs": [
    {
     "name": "stdout",
     "output_type": "stream",
     "text": [
      "['284882215', 'Facebook', '389879808', 'USD', '0.0', '2974676', '212', '3.5', '3.5', '95.0', '4+', 'Social Networking', '37', '1', '29', '1']\n",
      "['389801252', 'Instagram', '113954816', 'USD', '0.0', '2161558', '1289', '4.5', '4.0', '10.23', '12+', 'Photo & Video', '37', '0', '29', '1']\n",
      "['529479190', 'Clash of Clans', '116476928', 'USD', '0.0', '2130805', '579', '4.5', '4.5', '9.24.12', '9+', 'Games', '38', '5', '18', '1']\n",
      "\n",
      "\n",
      "O conjunto de dados tem 3220 entradas.\n",
      "O conjunto de dados tem 16 colunas.\n"
     ]
    }
   ],
   "source": [
    "explore_data(free_a)"
   ]
  },
  {
   "cell_type": "code",
   "execution_count": 32,
   "metadata": {},
   "outputs": [
    {
     "name": "stdout",
     "output_type": "stream",
     "text": [
      "['Photo Editor & Candy Camera & Grid & ScrapBook', 'ART_AND_DESIGN', '4.1', '159', '19M', '10,000+', 'Free', '0', 'Everyone', 'Art & Design', 'January 7, 2018', '1.0.0', '4.0.3 and up']\n",
      "['U Launcher Lite – FREE Live Cool Themes, Hide Apps', 'ART_AND_DESIGN', '4.7', '87510', '8.7M', '5,000,000+', 'Free', '0', 'Everyone', 'Art & Design', 'August 1, 2018', '1.2.4', '4.0.3 and up']\n",
      "['Sketch - Draw & Paint', 'ART_AND_DESIGN', '4.5', '215644', '25M', '50,000,000+', 'Free', '0', 'Teen', 'Art & Design', 'June 8, 2018', 'Varies with device', '4.2 and up']\n",
      "\n",
      "\n",
      "O conjunto de dados tem 8866 entradas.\n",
      "O conjunto de dados tem 13 colunas.\n"
     ]
    }
   ],
   "source": [
    "explore_data(free_g)"
   ]
  },
  {
   "cell_type": "markdown",
   "metadata": {},
   "source": [
    "Com a base de dados completamente filtrada, considere que o processo de construção de um novo aplicativo terá as seguintes etapas:\n",
    "\n",
    "1. Explorar o mercado da Google Play.\n",
    "2. Construir uma versão mínima do aplicativo.\n",
    "3. Em caso de sucesso, construir a versão para iOS."
   ]
  },
  {
   "cell_type": "code",
   "execution_count": 33,
   "metadata": {},
   "outputs": [],
   "source": [
    "# Cria tabela de frequência para alguma coluna do banco de dados\n",
    "def frequency_table(dataset, column_position):\n",
    "    column_frequency = {}\n",
    "    for row in dataset:\n",
    "        column_value = row[column_position]\n",
    "        if column_value not in column_frequency:\n",
    "            column_frequency[column_value]  = 1\n",
    "        else:\n",
    "            column_frequency[column_value] += 1\n",
    "    for key in column_frequency:\n",
    "        column_frequency[key] = round(column_frequency[key] / len(dataset) * 100, 2)\n",
    "    return column_frequency"
   ]
  },
  {
   "cell_type": "code",
   "execution_count": 34,
   "metadata": {},
   "outputs": [
    {
     "name": "stdout",
     "output_type": "stream",
     "text": [
      "{'Social Networking': 3.29, 'Photo & Video': 4.97, 'Games': 58.14, 'Music': 2.05, 'Reference': 0.56, 'Health & Fitness': 2.02, 'Weather': 0.87, 'Utilities': 2.52, 'Travel': 1.24, 'Shopping': 2.61, 'News': 1.34, 'Navigation': 0.19, 'Lifestyle': 1.58, 'Entertainment': 7.89, 'Food & Drink': 0.81, 'Sports': 2.14, 'Book': 0.43, 'Finance': 1.12, 'Education': 3.66, 'Productivity': 1.74, 'Business': 0.53, 'Catalogs': 0.12, 'Medical': 0.19}\n",
      "\n",
      "\n",
      "{'ART_AND_DESIGN': 0.64, 'AUTO_AND_VEHICLES': 0.92, 'BEAUTY': 0.6, 'BOOKS_AND_REFERENCE': 2.14, 'BUSINESS': 4.59, 'COMICS': 0.62, 'COMMUNICATION': 3.24, 'DATING': 1.86, 'EDUCATION': 1.16, 'ENTERTAINMENT': 0.96, 'EVENTS': 0.71, 'FINANCE': 3.7, 'FOOD_AND_DRINK': 1.24, 'HEALTH_AND_FITNESS': 3.08, 'HOUSE_AND_HOME': 0.82, 'LIBRARIES_AND_DEMO': 0.94, 'LIFESTYLE': 3.9, 'GAME': 9.72, 'FAMILY': 18.91, 'MEDICAL': 3.53, 'SOCIAL': 2.66, 'SHOPPING': 2.24, 'PHOTOGRAPHY': 2.94, 'SPORTS': 3.39, 'TRAVEL_AND_LOCAL': 2.33, 'TOOLS': 8.46, 'PERSONALIZATION': 3.32, 'PRODUCTIVITY': 3.89, 'PARENTING': 0.65, 'WEATHER': 0.8, 'VIDEO_PLAYERS': 1.79, 'NEWS_AND_MAGAZINES': 2.8, 'MAPS_AND_NAVIGATION': 1.41}\n"
     ]
    }
   ],
   "source": [
    "print(frequency_table(free_a, 11)) # Tabela de freq. para \"Prime genre\"\n",
    "print('\\n')\n",
    "print(frequency_table(free_g, 1)) # Tabela de freq. para \"Category\""
   ]
  },
  {
   "cell_type": "code",
   "execution_count": 35,
   "metadata": {},
   "outputs": [],
   "source": [
    "# Estiliza a visualização da tabela de frequência\n",
    "def display_table(dataset, column_position):\n",
    "    table = frequency_table(dataset, column_position)\n",
    "    table_display = []\n",
    "    for key in table:\n",
    "        key_val_as_tuple = (table[key], key) # Para fazer ordenação\n",
    "        table_display.append(key_val_as_tuple)\n",
    "    table_sorted = sorted(table_display, reverse = True)\n",
    "    for entry in table_sorted:\n",
    "        print(entry[1], ':', entry[0])"
   ]
  },
  {
   "cell_type": "code",
   "execution_count": 36,
   "metadata": {},
   "outputs": [
    {
     "name": "stdout",
     "output_type": "stream",
     "text": [
      "Games : 58.14\n",
      "Entertainment : 7.89\n",
      "Photo & Video : 4.97\n",
      "Education : 3.66\n",
      "Social Networking : 3.29\n",
      "Shopping : 2.61\n",
      "Utilities : 2.52\n",
      "Sports : 2.14\n",
      "Music : 2.05\n",
      "Health & Fitness : 2.02\n",
      "Productivity : 1.74\n",
      "Lifestyle : 1.58\n",
      "News : 1.34\n",
      "Travel : 1.24\n",
      "Finance : 1.12\n",
      "Weather : 0.87\n",
      "Food & Drink : 0.81\n",
      "Reference : 0.56\n",
      "Business : 0.53\n",
      "Book : 0.43\n",
      "Navigation : 0.19\n",
      "Medical : 0.19\n",
      "Catalogs : 0.12\n",
      "\n",
      "\n",
      "FAMILY : 18.91\n",
      "GAME : 9.72\n",
      "TOOLS : 8.46\n",
      "BUSINESS : 4.59\n",
      "LIFESTYLE : 3.9\n",
      "PRODUCTIVITY : 3.89\n",
      "FINANCE : 3.7\n",
      "MEDICAL : 3.53\n",
      "SPORTS : 3.39\n",
      "PERSONALIZATION : 3.32\n",
      "COMMUNICATION : 3.24\n",
      "HEALTH_AND_FITNESS : 3.08\n",
      "PHOTOGRAPHY : 2.94\n",
      "NEWS_AND_MAGAZINES : 2.8\n",
      "SOCIAL : 2.66\n",
      "TRAVEL_AND_LOCAL : 2.33\n",
      "SHOPPING : 2.24\n",
      "BOOKS_AND_REFERENCE : 2.14\n",
      "DATING : 1.86\n",
      "VIDEO_PLAYERS : 1.79\n",
      "MAPS_AND_NAVIGATION : 1.41\n",
      "FOOD_AND_DRINK : 1.24\n",
      "EDUCATION : 1.16\n",
      "ENTERTAINMENT : 0.96\n",
      "LIBRARIES_AND_DEMO : 0.94\n",
      "AUTO_AND_VEHICLES : 0.92\n",
      "HOUSE_AND_HOME : 0.82\n",
      "WEATHER : 0.8\n",
      "EVENTS : 0.71\n",
      "PARENTING : 0.65\n",
      "ART_AND_DESIGN : 0.64\n",
      "COMICS : 0.62\n",
      "BEAUTY : 0.6\n"
     ]
    }
   ],
   "source": [
    "display_table(free_a, 11) # Tabela de freq. ordenada para \"Prime genre\"\n",
    "print('\\n')\n",
    "display_table(free_g, 1) # Tabela de freq. ordenada para \"Category\""
   ]
  },
  {
   "cell_type": "markdown",
   "metadata": {},
   "source": [
    "Uma análise inicial sobre a frequência de categorias/gêneros dos aplicativos em cada uma das lojas pode ser realizada. Se necessário, incluir, também a coluna \"Genre\" (índice *9*) para a loja Google Play."
   ]
  },
  {
   "cell_type": "markdown",
   "metadata": {},
   "source": [
    "Agora, a estratégia é ver, por gênero, a popularidade de cada uma dessas categorias. Para o Google Play, isso será feito utilizando-se do *Installs* (quantidade de Instalações), e na App Store, utilizaremos *rating_count_tot* (quantidade total de pessoas que avaliaram cada APP)."
   ]
  },
  {
   "cell_type": "code",
   "execution_count": 37,
   "metadata": {},
   "outputs": [],
   "source": [
    "# Constroi tabela de \"soma total\" para características específicas do banco de dados\n",
    "def total_sum_table(dataset, category_position, char_position):\n",
    "    freq_table = frequency_table(dataset, category_position)\n",
    "    for value in freq_table:\n",
    "        total = 0\n",
    "        len_value = 0\n",
    "        for row in dataset:\n",
    "            char_value = float(row[char_position])\n",
    "            considered_category = row[category_position]\n",
    "            if considered_category == value:\n",
    "                total = total + char_value\n",
    "                len_value += 1\n",
    "        average = round(total / len_value, 2)\n",
    "        print('{}: {:.2f}'.format(value, average))          "
   ]
  },
  {
   "cell_type": "code",
   "execution_count": 38,
   "metadata": {},
   "outputs": [
    {
     "name": "stdout",
     "output_type": "stream",
     "text": [
      "Social Networking: 71548.35\n",
      "Photo & Video: 28441.54\n",
      "Games: 22812.92\n",
      "Music: 57326.53\n",
      "Reference: 74942.11\n",
      "Health & Fitness: 23298.02\n",
      "Weather: 52279.89\n",
      "Utilities: 18684.46\n",
      "Travel: 28243.80\n",
      "Shopping: 26919.69\n",
      "News: 21248.02\n",
      "Navigation: 86090.33\n",
      "Lifestyle: 16485.76\n",
      "Entertainment: 14029.83\n",
      "Food & Drink: 33333.92\n",
      "Sports: 23008.90\n",
      "Book: 39758.50\n",
      "Finance: 31467.94\n",
      "Education: 7003.98\n",
      "Productivity: 21028.41\n",
      "Business: 7491.12\n",
      "Catalogs: 4004.00\n",
      "Medical: 612.00\n"
     ]
    }
   ],
   "source": [
    "total_sum_table(free_a, 11, 5) # Por \"Prime Genre\" (11), vê \"rating_count_tot\" (5)\n",
    "# Observação: antes de fazer o mesmo para a Google Play, é necessário fazer ajuste na formatação das entradas na base de dados; veja a seguir."
   ]
  },
  {
   "cell_type": "code",
   "execution_count": 39,
   "metadata": {},
   "outputs": [
    {
     "name": "stdout",
     "output_type": "stream",
     "text": [
      "1,000,000+ : 15.72\n",
      "100,000+ : 11.56\n",
      "10,000,000+ : 10.55\n",
      "10,000+ : 10.2\n",
      "1,000+ : 8.4\n",
      "100+ : 6.91\n",
      "5,000,000+ : 6.82\n",
      "500,000+ : 5.56\n",
      "50,000+ : 4.77\n",
      "5,000+ : 4.51\n",
      "10+ : 3.54\n",
      "500+ : 3.25\n",
      "50,000,000+ : 2.3\n",
      "100,000,000+ : 2.13\n",
      "50+ : 1.92\n",
      "5+ : 0.79\n",
      "1+ : 0.51\n",
      "500,000,000+ : 0.27\n",
      "1,000,000,000+ : 0.23\n",
      "0+ : 0.05\n",
      "0 : 0.01\n"
     ]
    }
   ],
   "source": [
    "# Perceba que, para o Google Play, o número de instalações não está em um formato adequado\n",
    "display_table(free_g, 5)"
   ]
  },
  {
   "cell_type": "code",
   "execution_count": 40,
   "metadata": {},
   "outputs": [
    {
     "name": "stdout",
     "output_type": "stream",
     "text": [
      "ART_AND_DESIGN: 1986335.09\n",
      "AUTO_AND_VEHICLES: 647317.82\n",
      "BEAUTY: 513151.89\n",
      "BOOKS_AND_REFERENCE: 8767811.89\n",
      "BUSINESS: 1712290.15\n",
      "COMICS: 817657.27\n",
      "COMMUNICATION: 38456119.17\n",
      "DATING: 854028.83\n",
      "EDUCATION: 1833495.15\n",
      "ENTERTAINMENT: 11640705.88\n",
      "EVENTS: 253542.22\n",
      "FINANCE: 1387692.48\n",
      "FOOD_AND_DRINK: 1924897.74\n",
      "HEALTH_AND_FITNESS: 4188821.99\n",
      "HOUSE_AND_HOME: 1331540.56\n",
      "LIBRARIES_AND_DEMO: 638503.73\n",
      "LIFESTYLE: 1437816.27\n",
      "GAME: 15588015.60\n",
      "FAMILY: 3693438.69\n",
      "MEDICAL: 120550.62\n",
      "SOCIAL: 23253652.13\n",
      "SHOPPING: 7036877.31\n",
      "PHOTOGRAPHY: 17840110.40\n",
      "SPORTS: 3638640.14\n",
      "TRAVEL_AND_LOCAL: 13984077.71\n",
      "TOOLS: 10801391.30\n",
      "PERSONALIZATION: 5201482.61\n",
      "PRODUCTIVITY: 16787331.34\n",
      "PARENTING: 542603.62\n",
      "WEATHER: 5074486.20\n",
      "VIDEO_PLAYERS: 24727872.45\n",
      "NEWS_AND_MAGAZINES: 9549178.47\n",
      "MAPS_AND_NAVIGATION: 4025286.24\n"
     ]
    }
   ],
   "source": [
    "# Padroniza os valores de \"Installs\" do banco de dados da Google Play\n",
    "for row in free_g:\n",
    "    row[5] = (row[5].replace('+', '')).replace(',', '')\n",
    "    \n",
    "# Mostra a tabela do número de instalações por categoria na Google Play \n",
    "total_sum_table(free_g, 1, 5) # Por \"Category\" (1), vê \"Installs\" (5)"
   ]
  },
  {
   "cell_type": "markdown",
   "metadata": {},
   "source": [
    "A partir desse ponto, as análises são fáceis de serem realizadas. Eu posso, por exemplo, para o gênero/categoria de \"GAMES\" ou \"GAME\" (App Store e Google Play, respectivamente), ver quais são os principais concorrentes em potencial (em relação ao número de avaliações e instalações). O mesmo pode ser feito para qualquer outra categoria de sucesso. \n",
    "\n",
    "A obervação mais relevante é a de verificar se uma categoria muito popular não é inflada por *players* muito grande; o que seria um problema (e, por consequência, uma área de difícil exploração). Veja o exemplo de \"COMMUNICATION\" na Google Play."
   ]
  },
  {
   "cell_type": "code",
   "execution_count": 41,
   "metadata": {},
   "outputs": [
    {
     "name": "stdout",
     "output_type": "stream",
     "text": [
      "WhatsApp Messenger: 1,000,000,000 instalações.\n",
      "Google Duo - High Quality Video Calls: 500,000,000 instalações.\n",
      "Messenger – Text and Video Chat for Free: 1,000,000,000 instalações.\n",
      "imo free video calls and chat: 500,000,000 instalações.\n",
      "Skype - free IM & video calls: 1,000,000,000 instalações.\n",
      "LINE: Free Calls & Messages: 500,000,000 instalações.\n",
      "Google Chrome: Fast & Secure: 1,000,000,000 instalações.\n",
      "UC Browser - Fast Download Private & Secure: 500,000,000 instalações.\n",
      "Gmail: 1,000,000,000 instalações.\n",
      "Hangouts: 1,000,000,000 instalações.\n",
      "Viber Messenger: 500,000,000 instalações.\n"
     ]
    }
   ],
   "source": [
    "for row in free_g:\n",
    "    row[5] = float(row[5])\n",
    "    if (row[1] == 'COMMUNICATION') and (row[5] >= 500000000):\n",
    "        print('{}: {:,.0f} instalações.'.format(row[0], row[5]))"
   ]
  },
  {
   "cell_type": "markdown",
   "metadata": {},
   "source": [
    "Nesse caso, apesar de \"COMMUNICATION\" ser uma categoria popular, APPs como 'WhatsApp' e 'Skype' e 'Gmail' dominam completamente o pódio, com mais de um bilhão de *downloads* cada."
   ]
  }
 ],
 "metadata": {
  "kernelspec": {
   "display_name": "Python 3",
   "language": "python",
   "name": "python3"
  },
  "language_info": {
   "codemirror_mode": {
    "name": "ipython",
    "version": 3
   },
   "file_extension": ".py",
   "mimetype": "text/x-python",
   "name": "python",
   "nbconvert_exporter": "python",
   "pygments_lexer": "ipython3",
   "version": "3.6.9"
  }
 },
 "nbformat": 4,
 "nbformat_minor": 2
}
