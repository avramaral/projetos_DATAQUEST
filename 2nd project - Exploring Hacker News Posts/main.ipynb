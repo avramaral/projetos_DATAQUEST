{
 "cells": [
  {
   "cell_type": "markdown",
   "metadata": {
    "collapsed": true
   },
   "source": [
    "## Analisando o website \"Hacker News\"\n",
    "\n",
    "O principal objetivo desse projeto é analisar a base de dados de postagens feitas no site \"Hacker News\"; sobretudo aquelas que têm os prefixos 'Ask HN' ou 'Show HN' (postagens de perguntas e exposição de projetos, respectivamente)."
   ]
  },
  {
   "cell_type": "code",
   "execution_count": 1,
   "metadata": {},
   "outputs": [
    {
     "name": "stdout",
     "output_type": "stream",
     "text": [
      "['id', 'title', 'url', 'num_points', 'num_comments', 'author', 'created_at']\n",
      "['12224879', 'Interactive Dynamic Video', 'http://www.interactivedynamicvideo.com/', '386', '52', 'ne0phyte', '8/4/2016 11:52']\n",
      "['10975351', 'How to Use Open Source and Shut the Fuck Up at the Same Time', 'http://hueniverse.com/2016/01/26/how-to-use-open-source-and-shut-the-fuck-up-at-the-same-time/', '39', '10', 'josep2', '1/26/2016 19:30']\n",
      "['11964716', \"Florida DJs May Face Felony for April Fools' Water Joke\", 'http://www.thewire.com/entertainment/2013/04/florida-djs-april-fools-water-joke/63798/', '2', '1', 'vezycash', '6/23/2016 22:20']\n",
      "['11919867', 'Technology ventures: From Idea to Enterprise', 'https://www.amazon.com/Technology-Ventures-Enterprise-Thomas-Byers/dp/0073523429', '3', '1', 'hswarna', '6/17/2016 0:01']\n"
     ]
    }
   ],
   "source": [
    "from csv import reader\n",
    "\n",
    "opened_file = open('hacker_news.csv')\n",
    "read_file   = reader(opened_file)\n",
    "hn          = list(read_file)\n",
    "\n",
    "# Imprime as 5 primeiras linhas do banco de dados\n",
    "for row in hn[:5]:\n",
    "    print(row)"
   ]
  },
  {
   "cell_type": "code",
   "execution_count": 2,
   "metadata": {},
   "outputs": [
    {
     "name": "stdout",
     "output_type": "stream",
     "text": [
      "['id', 'title', 'url', 'num_points', 'num_comments', 'author', 'created_at']\n",
      "\n",
      "\n",
      "['12224879', 'Interactive Dynamic Video', 'http://www.interactivedynamicvideo.com/', '386', '52', 'ne0phyte', '8/4/2016 11:52']\n",
      "['10975351', 'How to Use Open Source and Shut the Fuck Up at the Same Time', 'http://hueniverse.com/2016/01/26/how-to-use-open-source-and-shut-the-fuck-up-at-the-same-time/', '39', '10', 'josep2', '1/26/2016 19:30']\n",
      "['11964716', \"Florida DJs May Face Felony for April Fools' Water Joke\", 'http://www.thewire.com/entertainment/2013/04/florida-djs-april-fools-water-joke/63798/', '2', '1', 'vezycash', '6/23/2016 22:20']\n",
      "['11919867', 'Technology ventures: From Idea to Enterprise', 'https://www.amazon.com/Technology-Ventures-Enterprise-Thomas-Byers/dp/0073523429', '3', '1', 'hswarna', '6/17/2016 0:01']\n",
      "['10301696', 'Note by Note: The Making of Steinway L1037 (2007)', 'http://www.nytimes.com/2007/11/07/movies/07stein.html?_r=0', '8', '2', 'walterbell', '9/30/2015 4:12']\n"
     ]
    }
   ],
   "source": [
    "# Separa o cabeçalho do resto do banco de dados\n",
    "header = hn[0]\n",
    "hn = hn[1:]\n",
    "\n",
    "print(header)\n",
    "print('\\n')\n",
    "for row in hn[:5]:\n",
    "    print(row)"
   ]
  },
  {
   "cell_type": "code",
   "execution_count": 3,
   "metadata": {},
   "outputs": [
    {
     "name": "stdout",
     "output_type": "stream",
     "text": [
      "Existem 1744 posts que começam com 'Ask HN'.\n",
      "Existem 1162 posts que começam com 'Show HN'.\n",
      "Existem 17194 posts restantes.\n",
      "\n",
      "\n",
      "True\n"
     ]
    }
   ],
   "source": [
    "# Separa os posts que começam com \"Ask HN\" e \"Show HN\"\n",
    "ask_posts   = []\n",
    "show_posts  = []\n",
    "other_posts = []\n",
    "\n",
    "for row in hn:\n",
    "    title = row[1]\n",
    "    title = title.lower()\n",
    "    if title.startswith(\"ask hn\"):\n",
    "        ask_posts.append(row)\n",
    "    elif title.startswith(\"show hn\"):\n",
    "        show_posts.append(row)\n",
    "    else:\n",
    "        other_posts.append(row)\n",
    "        \n",
    "total_len = len(hn)\n",
    "ask_len   = len(ask_posts)\n",
    "show_len  = len(show_posts)\n",
    "other_len = len(other_posts)\n",
    "        \n",
    "print(\"Existem {} posts que começam com 'Ask HN'.\".format(ask_len))\n",
    "print(\"Existem {} posts que começam com 'Show HN'.\".format(show_len))\n",
    "print(\"Existem {} posts restantes.\".format(other_len))\n",
    "\n",
    "# Teste para verificar se todos os posts foram contemplados\n",
    "print('\\n')\n",
    "print(total_len == ask_len + show_len + other_len)"
   ]
  },
  {
   "cell_type": "code",
   "execution_count": 4,
   "metadata": {},
   "outputs": [
    {
     "name": "stdout",
     "output_type": "stream",
     "text": [
      "A quantidade média de comentários em posts do tipo 'Ask HN' é 14.04.\n",
      "A quantidade média de comentários em posts do tipo 'Show HN' é 10.32.\n"
     ]
    }
   ],
   "source": [
    "# Verifica qual categoria recebe, em média, mais coment.: Ask ou Show\n",
    "total_ask_comments  = 0 \n",
    "total_show_comments = 0\n",
    "\n",
    "for ask_post in ask_posts:\n",
    "    na_comments = int(ask_post[4])\n",
    "    total_ask_comments += na_comments\n",
    "\n",
    "for show_post in show_posts:\n",
    "    ns_comments = int(show_post[4])\n",
    "    total_show_comments += ns_comments\n",
    "    \n",
    "avg_ask_comments = total_ask_comments / len(ask_posts)\n",
    "avg_show_comments = total_show_comments / len(show_posts)\n",
    "\n",
    "print(\"A quantidade média de comentários em posts do tipo 'Ask HN' é {:.2f}.\".format(avg_ask_comments))\n",
    "print(\"A quantidade média de comentários em posts do tipo 'Show HN' é {:.2f}.\".format(avg_show_comments))"
   ]
  },
  {
   "cell_type": "markdown",
   "metadata": {},
   "source": [
    "Em média, posts que fazem perguntas; i.e., posts que tem título começando com \"Ask HN\", recebem mais comentários. O que faz total sentido, já que a ideia é escrever algo para que a comunidade responda. Por isso, o restante da análise se concentrará nesse tipo de postagem."
   ]
  },
  {
   "cell_type": "code",
   "execution_count": 5,
   "metadata": {},
   "outputs": [
    {
     "name": "stdout",
     "output_type": "stream",
     "text": [
      "{'09': 45, '13': 85, '10': 59, '14': 107, '16': 108, '23': 68, '12': 73, '17': 100, '15': 116, '21': 109, '20': 80, '02': 58, '18': 109, '03': 54, '05': 46, '19': 110, '01': 60, '22': 71, '08': 48, '04': 47, '00': 55, '06': 44, '07': 34, '11': 58}\n",
      "\n",
      "\n",
      "{'09': 251, '13': 1253, '10': 793, '14': 1416, '16': 1814, '23': 543, '12': 687, '17': 1146, '15': 4477, '21': 1745, '20': 1722, '02': 1381, '18': 1439, '03': 421, '05': 464, '19': 1188, '01': 683, '22': 479, '08': 492, '04': 337, '00': 447, '06': 397, '07': 267, '11': 641}\n"
     ]
    }
   ],
   "source": [
    "# Verifica o número de comentários separados por hora de postagem\n",
    "import datetime as dt\n",
    "\n",
    "result_list = []\n",
    "for post in ask_posts:\n",
    "    created_at = post[6]\n",
    "    created_at = dt.datetime.strptime(created_at, \"%m/%d/%Y %H:%M\")\n",
    "    n_comments = int(post[4])\n",
    "    result_list.append([created_at, n_comments])\n",
    "\n",
    "counts_by_hour   = {}\n",
    "comments_by_hour = {}\n",
    "\n",
    "for item in result_list:\n",
    "    hour = item[0].strftime(\"%H\")\n",
    "    if hour not in counts_by_hour:\n",
    "        counts_by_hour[hour] = 1\n",
    "        comments_by_hour[hour] = item[1]\n",
    "    else:\n",
    "        counts_by_hour[hour] += 1\n",
    "        comments_by_hour[hour] += item[1]  \n",
    "\n",
    "print(counts_by_hour)\n",
    "print('\\n')\n",
    "print(comments_by_hour)"
   ]
  },
  {
   "cell_type": "code",
   "execution_count": 6,
   "metadata": {},
   "outputs": [
    {
     "name": "stdout",
     "output_type": "stream",
     "text": [
      "[['09', 5.58], ['13', 14.74], ['10', 13.44], ['14', 13.23], ['16', 16.8], ['23', 7.99], ['12', 9.41], ['17', 11.46], ['15', 38.59], ['21', 16.01], ['20', 21.52], ['02', 23.81], ['18', 13.2], ['03', 7.8], ['05', 10.09], ['19', 10.8], ['01', 11.38], ['22', 6.75], ['08', 10.25], ['04', 7.17], ['00', 8.13], ['06', 9.02], ['07', 7.85], ['11', 11.05]]\n"
     ]
    }
   ],
   "source": [
    "# Calcula a média de comentários que esse tipo de post recebe a cada hora\n",
    "avg_by_hour = []\n",
    "for key in counts_by_hour:\n",
    "    average = round(comments_by_hour[key] / counts_by_hour[key], 2)\n",
    "    avg_by_hour.append([key, average])\n",
    "\n",
    "print(avg_by_hour)"
   ]
  },
  {
   "cell_type": "code",
   "execution_count": 7,
   "metadata": {},
   "outputs": [
    {
     "name": "stdout",
     "output_type": "stream",
     "text": [
      "[[5.58, '09'], [14.74, '13'], [13.44, '10'], [13.23, '14'], [16.8, '16'], [7.99, '23'], [9.41, '12'], [11.46, '17'], [38.59, '15'], [16.01, '21'], [21.52, '20'], [23.81, '02'], [13.2, '18'], [7.8, '03'], [10.09, '05'], [10.8, '19'], [11.38, '01'], [6.75, '22'], [10.25, '08'], [7.17, '04'], [8.13, '00'], [9.02, '06'], [7.85, '07'], [11.05, '11']]\n"
     ]
    }
   ],
   "source": [
    "# Organiza os resultados para apresentá-los de uma maneira melhor\n",
    "swap_avg_by_hour = []\n",
    "for item in avg_by_hour:\n",
    "    swap_avg_by_hour.append([item[1], item[0]])\n",
    "    \n",
    "print(swap_avg_by_hour)"
   ]
  },
  {
   "cell_type": "code",
   "execution_count": 8,
   "metadata": {},
   "outputs": [
    {
     "name": "stdout",
     "output_type": "stream",
     "text": [
      "Os Melhores 5 Horários para se Fazer Perguntas \n",
      "\n",
      "15:00 horas: média de 38.59 comentários por postagem.\n",
      "02:00 horas: média de 23.81 comentários por postagem.\n",
      "20:00 horas: média de 21.52 comentários por postagem.\n",
      "16:00 horas: média de 16.80 comentários por postagem.\n",
      "21:00 horas: média de 16.01 comentários por postagem.\n"
     ]
    }
   ],
   "source": [
    "sorted_swap = sorted(swap_avg_by_hour, reverse = True)\n",
    "print(\"Os Melhores 5 Horários para se Fazer Perguntas \\n\")\n",
    "for item in sorted_swap[:5]:\n",
    "    template = \"{}:00 horas: média de {:.2f} comentários por postagem.\"\n",
    "    print(template.format(item[1], item[0]))"
   ]
  },
  {
   "cell_type": "markdown",
   "metadata": {},
   "source": [
    "Assim, caso o usuário queira fazer um post do tipo \"Ask HN\"; ou seja, fazer uma pergunta que terá resposta (ou comentário), ele terá suas chances aumentadas se o fizer às 15:00 horas."
   ]
  }
 ],
 "metadata": {
  "kernelspec": {
   "display_name": "Python 3",
   "language": "python",
   "name": "python3"
  },
  "language_info": {
   "codemirror_mode": {
    "name": "ipython",
    "version": 3
   },
   "file_extension": ".py",
   "mimetype": "text/x-python",
   "name": "python",
   "nbconvert_exporter": "python",
   "pygments_lexer": "ipython3",
   "version": "3.6.9"
  }
 },
 "nbformat": 4,
 "nbformat_minor": 2
}
